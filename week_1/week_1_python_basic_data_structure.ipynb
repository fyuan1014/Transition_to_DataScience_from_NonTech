{
 "cells": [
  {
   "cell_type": "markdown",
   "metadata": {},
   "source": [
    "### 1. Data Type"
   ]
  },
  {
   "cell_type": "code",
   "execution_count": 1,
   "metadata": {},
   "outputs": [
    {
     "name": "stdout",
     "output_type": "stream",
     "text": [
      "Integer: 3\n",
      "Type of a: <class 'int'>\n",
      "Float: 3.14\n",
      "Type of b: <class 'float'>\n"
     ]
    }
   ],
   "source": [
    "##1 numeric\n",
    "###1.1 Integer example\n",
    "a = 3\n",
    "print(\"Integer:\", a)\n",
    "print(\"Type of a:\", type(a))\n",
    "\n",
    "###1.2 Float example\n",
    "b = 3.14\n",
    "print(\"Float:\", b)\n",
    "print(\"Type of b:\", type(b))"
   ]
  },
  {
   "cell_type": "code",
   "execution_count": 2,
   "metadata": {},
   "outputs": [
    {
     "name": "stdout",
     "output_type": "stream",
     "text": [
      "String: Hello, World!\n",
      "Type of s_single: <class 'str'>\n",
      "String: Hello, World!\n",
      "Type of s_double: <class 'str'>\n"
     ]
    }
   ],
   "source": [
    "##2 string\n",
    "###2.1 String example\n",
    "s_single = 'Hello, World!'\n",
    "s_double = \"Hello, World!\"\n",
    "print(\"String:\", s_single)\n",
    "print(\"Type of s_single:\", type(s_single))\n",
    "print(\"String:\", s_double)\n",
    "print(\"Type of s_double:\", type(s_double))"
   ]
  },
  {
   "cell_type": "code",
   "execution_count": 3,
   "metadata": {},
   "outputs": [
    {
     "name": "stdout",
     "output_type": "stream",
     "text": [
      "First character: H\n",
      "End character: !\n",
      "First five characters: Hello\n"
     ]
    }
   ],
   "source": [
    "###2.2 Accessing elements in a string by index\n",
    "first_char = s_single[0] # Python index starts with 0\n",
    "end_char = s_single[-1]\n",
    "first_five_chars = s_single[0:5] # Here you can use ':' to denote the range of index where you want to get the characters\n",
    "print(\"First character:\", first_char)\n",
    "print(\"End character:\", end_char)\n",
    "print(\"First five characters:\", first_five_chars)"
   ]
  },
  {
   "cell_type": "code",
   "execution_count": 4,
   "metadata": {},
   "outputs": [
    {
     "name": "stdout",
     "output_type": "stream",
     "text": [
      "Boolean x: True\n",
      "Boolean y: False\n",
      "Type of x: <class 'bool'>\n",
      "Type of y: <class 'bool'>\n"
     ]
    }
   ],
   "source": [
    "##3 boolean\n",
    "###3.1 Boolean example\n",
    "x = True\n",
    "y = False\n",
    "print(\"Boolean x:\", x)\n",
    "print(\"Boolean y:\", y)\n",
    "print(\"Type of x:\", type(x))\n",
    "print(\"Type of y:\", type(y))"
   ]
  },
  {
   "cell_type": "code",
   "execution_count": 5,
   "metadata": {},
   "outputs": [
    {
     "name": "stdout",
     "output_type": "stream",
     "text": [
      "False\n",
      "False\n",
      "False\n",
      "False\n",
      "False\n",
      "True\n"
     ]
    }
   ],
   "source": [
    "###3.2 built-in method bool()\n",
    "####3.2.1 Returns False as a is not equal to b\n",
    "a = 1\n",
    "b = 10\n",
    "print(bool(a==b))\n",
    "####3.2.2 Returns False as a is None\n",
    "a = None\n",
    "print(bool(a))\n",
    "####3.2.3 Returns False as a is an empty sequence\n",
    "a = ()\n",
    "print(bool(a))\n",
    "####3.2.4 Returns False as a is an empty mapping\n",
    "a = {}\n",
    "print(bool(a))\n",
    "####3.2.5 Returns False as a is 0\n",
    "a = 0\n",
    "print(bool(a))\n",
    "####3.2.6 Returns True as a is a non-empty string\n",
    "a = 'LovePython!'\n",
    "print(bool(a))"
   ]
  },
  {
   "cell_type": "code",
   "execution_count": 6,
   "metadata": {},
   "outputs": [
    {
     "name": "stdout",
     "output_type": "stream",
     "text": [
      "False\n",
      "True\n"
     ]
    }
   ],
   "source": [
    "###3.3 from the expression\n",
    "a = 1\n",
    "b = 10\n",
    "print(a==b)\n",
    "c = 1\n",
    "print(a==c)"
   ]
  },
  {
   "cell_type": "code",
   "execution_count": 7,
   "metadata": {},
   "outputs": [
    {
     "name": "stdout",
     "output_type": "stream",
     "text": [
      "False\n",
      "True\n",
      "True\n"
     ]
    }
   ],
   "source": [
    "###3.4 Integers and floats as Booleans\n",
    "## Integers, floating-point number, or complex number having zero as a value is considered as False,\n",
    "## while if they are having none-zero value as any positive or negative number then it is considered as True\n",
    "a = 0\n",
    "print(bool(a))\n",
    "b = 10\n",
    "print(bool(b))\n",
    "c = -12.3\n",
    "print(bool(c))"
   ]
  },
  {
   "cell_type": "code",
   "execution_count": 8,
   "metadata": {},
   "outputs": [
    {
     "name": "stdout",
     "output_type": "stream",
     "text": [
      "List: [1, 2, 3, 'Python', 4.5]\n",
      "Type of list_example: <class 'list'>\n"
     ]
    }
   ],
   "source": [
    "##4. sequence\n",
    "###4.1 List example\n",
    "list_example = [1, 2, 3, \"Python\", 4.5]\n",
    "print(\"List:\", list_example)\n",
    "print(\"Type of list_example:\", type(list_example))"
   ]
  },
  {
   "cell_type": "code",
   "execution_count": 9,
   "metadata": {},
   "outputs": [
    {
     "name": "stdout",
     "output_type": "stream",
     "text": [
      "First element: 1\n",
      "Modified list: [1, 'changeAsExample', 3, 'Python', 4.5]\n"
     ]
    }
   ],
   "source": [
    "###4.2 Accessing and modifying elements by index in a list\n",
    "print(\"First element:\", list_example[0])\n",
    "list_example[1] = \"changeAsExample\"\n",
    "print(\"Modified list:\", list_example)"
   ]
  },
  {
   "cell_type": "code",
   "execution_count": 10,
   "metadata": {},
   "outputs": [
    {
     "name": "stdout",
     "output_type": "stream",
     "text": [
      "Tuple: (1, 2, 3, 'Python', 4.5)\n",
      "Type of tuple_example: <class 'tuple'>\n"
     ]
    }
   ],
   "source": [
    "###4.3 Tuple example\n",
    "tuple_example = (1, 2, 3, \"Python\", 4.5)\n",
    "print(\"Tuple:\", tuple_example)\n",
    "print(\"Type of tuple_example:\", type(tuple_example))"
   ]
  },
  {
   "cell_type": "code",
   "execution_count": 11,
   "metadata": {},
   "outputs": [
    {
     "name": "stdout",
     "output_type": "stream",
     "text": [
      "First element: 1\n"
     ]
    }
   ],
   "source": [
    "###4.4 Accessing elements by index \n",
    "print(\"First element:\", tuple_example[0])"
   ]
  },
  {
   "cell_type": "code",
   "execution_count": 12,
   "metadata": {},
   "outputs": [
    {
     "ename": "TypeError",
     "evalue": "'tuple' object does not support item assignment",
     "output_type": "error",
     "traceback": [
      "\u001b[1;31m---------------------------------------------------------------------------\u001b[0m",
      "\u001b[1;31mTypeError\u001b[0m                                 Traceback (most recent call last)",
      "Input \u001b[1;32mIn [12]\u001b[0m, in \u001b[0;36m<cell line: 2>\u001b[1;34m()\u001b[0m\n\u001b[0;32m      1\u001b[0m \u001b[38;5;66;03m###4.5 Trying to modify elements by index in a tuple\u001b[39;00m\n\u001b[1;32m----> 2\u001b[0m tuple_example[\u001b[38;5;241m1\u001b[39m] \u001b[38;5;241m=\u001b[39m \u001b[38;5;124m\"\u001b[39m\u001b[38;5;124mchangeAsExample\u001b[39m\u001b[38;5;124m\"\u001b[39m\n",
      "\u001b[1;31mTypeError\u001b[0m: 'tuple' object does not support item assignment"
     ]
    }
   ],
   "source": [
    "###4.5 Trying to modify elements by index in a tuple\n",
    "tuple_example[1] = \"changeAsExample\""
   ]
  },
  {
   "cell_type": "markdown",
   "metadata": {},
   "source": [
    "##### The output from trying to modify elements: TypeError: 'tuple' object does not support item assignment\n",
    "##### This reflects the immutable characteristic of tuple: content cannot be changed once assigned"
   ]
  },
  {
   "cell_type": "code",
   "execution_count": 13,
   "metadata": {},
   "outputs": [
    {
     "name": "stdout",
     "output_type": "stream",
     "text": [
      "Range: range(0, 3)\n",
      "Range elements by list: [0, 1, 2]\n",
      "Type of range_example: <class 'range'>\n"
     ]
    }
   ],
   "source": [
    "###4.6 Range example\n",
    "range_example = range(3)\n",
    "print(\"Range:\", range_example) \n",
    "print(\"Range elements by list:\", list(range_example))  # Convert to list to see the elements\n",
    "print(\"Type of range_example:\", type(range_example))"
   ]
  },
  {
   "cell_type": "code",
   "execution_count": 14,
   "metadata": {},
   "outputs": [
    {
     "name": "stdout",
     "output_type": "stream",
     "text": [
      "Iteration: 0\n",
      "Iteration: 1\n",
      "Iteration: 2\n"
     ]
    }
   ],
   "source": [
    "###4.7 Using range in a loop, which be further introduced in Chapter 4\n",
    "for i in range_example:\n",
    "    print(\"Iteration:\", i)"
   ]
  },
  {
   "cell_type": "code",
   "execution_count": 15,
   "metadata": {},
   "outputs": [
    {
     "name": "stdout",
     "output_type": "stream",
     "text": [
      "Dictionary: {'name': 'Alice', 'age': 25, 'city': 'Boston'}\n",
      "Type of dict_example: <class 'dict'>\n"
     ]
    }
   ],
   "source": [
    "##5. Dictionary\n",
    "###5.1 Dictionary example\n",
    "dict_example = {\"name\": \"Alice\", \"age\": 25, \"city\": \"Boston\"}\n",
    "print(\"Dictionary:\", dict_example)\n",
    "print(\"Type of dict_example:\", type(dict_example))"
   ]
  },
  {
   "cell_type": "code",
   "execution_count": 16,
   "metadata": {},
   "outputs": [
    {
     "name": "stdout",
     "output_type": "stream",
     "text": [
      "All keys in dict_example: dict_keys(['name', 'age', 'city'])\n"
     ]
    }
   ],
   "source": [
    "###5.2 Get a list of keys\n",
    "key_list = dict_example.keys()\n",
    "print(\"All keys in dict_example:\", key_list)"
   ]
  },
  {
   "cell_type": "code",
   "execution_count": 17,
   "metadata": {},
   "outputs": [
    {
     "name": "stdout",
     "output_type": "stream",
     "text": [
      "Name: Alice\n",
      "Name: Alice\n"
     ]
    }
   ],
   "source": [
    "###5.3 Accessing values by keys by two methods\n",
    "print(\"Name:\", dict_example[\"name\"])\n",
    "print(\"Name:\", dict_example.get(\"name\"))"
   ]
  },
  {
   "cell_type": "code",
   "execution_count": 18,
   "metadata": {},
   "outputs": [
    {
     "name": "stdout",
     "output_type": "stream",
     "text": [
      "Modified dictionary: {'name': 'Alice', 'age': 26, 'city': 'Boston', 'country': 'USA'}\n"
     ]
    }
   ],
   "source": [
    "###5.4 Adding and modifying elements\n",
    "dict_example[\"age\"] = 26\n",
    "dict_example[\"country\"] = \"USA\"\n",
    "print(\"Modified dictionary:\", dict_example)"
   ]
  },
  {
   "cell_type": "code",
   "execution_count": 19,
   "metadata": {},
   "outputs": [
    {
     "name": "stdout",
     "output_type": "stream",
     "text": [
      "4\n"
     ]
    }
   ],
   "source": [
    "###5.5 Measure the number of elements (key:value paris)\n",
    "print(len(dict_example)) # after dict_example was modified, where 'country' key and its corresponding value was added."
   ]
  },
  {
   "cell_type": "code",
   "execution_count": 20,
   "metadata": {},
   "outputs": [
    {
     "name": "stdout",
     "output_type": "stream",
     "text": [
      "{'name': 'Alice', 'age': 26, 'city': 'Boston', 'country': 'USA', 'list_example': ['red', 'green', 'blue'], 'boolean_example': True}\n"
     ]
    }
   ],
   "source": [
    "###5.6 Values in dictionary items can be of any data type (e.g., list, boolean, etc.)\n",
    "dict_example['list_example'] = ['red','green','blue']\n",
    "dict_example['boolean_example'] = True\n",
    "print(dict_example)"
   ]
  },
  {
   "cell_type": "code",
   "execution_count": 21,
   "metadata": {},
   "outputs": [
    {
     "name": "stdout",
     "output_type": "stream",
     "text": [
      "{'name': 'Alice', 'age': 25, 'city': 'Boston'}\n"
     ]
    }
   ],
   "source": [
    "###5.7 Create dictionary with dict() function\n",
    "create_dict_example = dict(name=\"Alice\", age=25, city=\"Boston\")\n",
    "print(create_dict_example)"
   ]
  },
  {
   "cell_type": "code",
   "execution_count": 22,
   "metadata": {},
   "outputs": [
    {
     "name": "stdout",
     "output_type": "stream",
     "text": [
      "Set example 1: {1, 2, 3, 4, 5}\n",
      "Set example 2: {1, 2, 3, 4, 5}\n",
      "Type of set_example_1: <class 'set'>\n",
      "Type of set_example_2: <class 'set'>\n"
     ]
    }
   ],
   "source": [
    "##6. set\n",
    "###6.1 Set examples\n",
    "set_example_1 = {1, 2, 3, 4, 4, 5}\n",
    "set_example_2 = {1, 2, 3, 4, 5}\n",
    "print(\"Set example 1:\", set_example_1)\n",
    "print(\"Set example 2:\", set_example_2)\n",
    "print(\"Type of set_example_1:\", type(set_example_1))\n",
    "print(\"Type of set_example_2:\", type(set_example_2))"
   ]
  },
  {
   "cell_type": "code",
   "execution_count": 23,
   "metadata": {},
   "outputs": [
    {
     "name": "stdout",
     "output_type": "stream",
     "text": [
      "Modified set: {1, 2, 4, 5, 6}\n"
     ]
    }
   ],
   "source": [
    "###6.2 Adding and removing elements\n",
    "set_example_1.add(6) # add element 6 into the set_example_1\n",
    "set_example_1.remove(3) # remove element 3 into the set_example_1\n",
    "print(\"Modified set:\", set_example_1)"
   ]
  },
  {
   "cell_type": "code",
   "execution_count": 24,
   "metadata": {},
   "outputs": [
    {
     "name": "stdout",
     "output_type": "stream",
     "text": [
      "1\n",
      "2\n",
      "4\n",
      "5\n",
      "6\n"
     ]
    }
   ],
   "source": [
    "###6.3 Access elements form a set\n",
    "# a loop will be needed as there is no index within a set (after addition and removal of elements in set_example_1)\n",
    "for element in set_example_1:\n",
    "    print(element)"
   ]
  },
  {
   "cell_type": "code",
   "execution_count": 25,
   "metadata": {},
   "outputs": [
    {
     "name": "stdout",
     "output_type": "stream",
     "text": [
      "Joined set by union: {1, 'c', 2, 3, 'a', 'b'}\n",
      "Joined set by intersection: {1, 'b'}\n",
      "Joined set by difference: {'a', 'c'}\n",
      "Joined set by symmetric_difference: {2, 3, 'c', 'a'}\n"
     ]
    }
   ],
   "source": [
    "###6.4 Join sets\n",
    "set_join_1 = {\"a\", \"b\", \"c\", 1}\n",
    "set_join_2 = {1, 2, 3, 'b'}\n",
    "# different joins:\n",
    "# union() and update() methods joins all items from both sets\n",
    "# intersection() method keeps ONLY the duplicates from both/all sets\n",
    "# difference() method keeps the items from the first set that are not in the other set(s) to be joined\n",
    "# symmetric_difference() method keeps all items EXCEPT the duplicates from all the joined sets\n",
    "\n",
    "joined_set_1 = set_join_1.union(set_join_2)\n",
    "joined_set_2 = set_join_1.intersection(set_join_2)\n",
    "joined_set_3 = set_join_1.difference(set_join_2)\n",
    "joined_set_4 = set_join_1.symmetric_difference(set_join_2)\n",
    "\n",
    "print('Joined set by union:', joined_set_1)\n",
    "print('Joined set by intersection:', joined_set_2)\n",
    "print('Joined set by difference:', joined_set_3)\n",
    "print('Joined set by symmetric_difference:', joined_set_4)"
   ]
  },
  {
   "cell_type": "code",
   "execution_count": 26,
   "metadata": {},
   "outputs": [
    {
     "name": "stdout",
     "output_type": "stream",
     "text": [
      "Value of x: None\n",
      "Type of x: <class 'NoneType'>\n"
     ]
    }
   ],
   "source": [
    "##7. NoneType\n",
    "###7.1 NoneType example\n",
    "x = None\n",
    "print(\"Value of x:\", x)\n",
    "print(\"Type of x:\", type(x))"
   ]
  },
  {
   "cell_type": "code",
   "execution_count": 27,
   "metadata": {},
   "outputs": [
    {
     "name": "stdout",
     "output_type": "stream",
     "text": [
      "x is None\n"
     ]
    }
   ],
   "source": [
    "###7.2 Checking if a variable is None\n",
    "if x is None:\n",
    "    print(\"x is None\")"
   ]
  },
  {
   "cell_type": "code",
   "execution_count": 28,
   "metadata": {},
   "outputs": [
    {
     "name": "stdout",
     "output_type": "stream",
     "text": [
      "10\n"
     ]
    }
   ],
   "source": [
    "###7.3 Use of NoneType in if condition (to be further introduced in Chapter 3 Conditional Logic)\n",
    "if x:\n",
    "    print(1)\n",
    "else:\n",
    "    print(10)"
   ]
  },
  {
   "cell_type": "markdown",
   "metadata": {},
   "source": [
    "### 2. Variables"
   ]
  },
  {
   "cell_type": "code",
   "execution_count": 29,
   "metadata": {},
   "outputs": [
    {
     "name": "stdout",
     "output_type": "stream",
     "text": [
      "x = 5\n",
      "y = 3.14\n",
      "name = Tony\n",
      "is_active = True\n",
      "a, b, c: red green blue\n",
      "d, e, f: red red red\n"
     ]
    }
   ],
   "source": [
    "##1 variables assignment & output\n",
    "###1.1 Variable creation and assignment examples\n",
    "x = 5  # Creating and assigning an integer to variable x\n",
    "y = 3.14  # Creating and assigning a float to variable y\n",
    "name = \"Tony\"  # Creating and assigning a string to variable name\n",
    "is_active = True  # Creating and assigning a Boolean to variable is_active\n",
    "a, b, c = \"red\", \"green\", \"blue\" # Creating and assigning multiple values to multiple variables a, b, c\n",
    "d = e = f = \"red\" # Creating and assigning the same value to multiple variables d, e, f\n",
    "\n",
    "# Printing variables\n",
    "print(\"x =\", x)\n",
    "print(\"y =\", y)\n",
    "print(\"name =\", name)\n",
    "print(\"is_active =\", is_active)\n",
    "print(\"a, b, c:\", a, b, c)\n",
    "print(\"d, e, f:\", d, e, f)"
   ]
  },
  {
   "cell_type": "code",
   "execution_count": 30,
   "metadata": {},
   "outputs": [
    {
     "name": "stdout",
     "output_type": "stream",
     "text": [
      "Type of x: <class 'int'>\n",
      "Type of y: <class 'float'>\n",
      "Type of name: <class 'str'>\n",
      "Type of is_active: <class 'bool'>\n"
     ]
    }
   ],
   "source": [
    "###1.2 Checking types of variables\n",
    "print(\"Type of x:\", type(x))\n",
    "print(\"Type of y:\", type(y))\n",
    "print(\"Type of name:\", type(name))\n",
    "print(\"Type of is_active:\", type(is_active))"
   ]
  },
  {
   "cell_type": "code",
   "execution_count": 31,
   "metadata": {},
   "outputs": [
    {
     "name": "stdout",
     "output_type": "stream",
     "text": [
      "Initial value of x: 1\n",
      "After overwriting x with a new integer: 10\n",
      "After overwriting x with a float: 10.1\n",
      "After overwriting x with a string: Python\n",
      "After overwriting x with a Boolean: True\n"
     ]
    }
   ],
   "source": [
    "##2 overwriting variables\n",
    "###2.1 Overwriting example & process\n",
    "## Initial assignment\n",
    "x = 1\n",
    "print(\"Initial value of x:\", x)\n",
    "\n",
    "## Overwriting with a new integer\n",
    "x = 10\n",
    "print(\"After overwriting x with a new integer:\", x)\n",
    "\n",
    "## Overwriting with a different type (float)\n",
    "x = 10.1\n",
    "print(\"After overwriting x with a float:\", x)\n",
    "\n",
    "## Overwriting with a string\n",
    "x = \"Python\"\n",
    "print(\"After overwriting x with a string:\", x)\n",
    "\n",
    "## Overwriting with a Boolean\n",
    "x = True\n",
    "print(\"After overwriting x with a Boolean:\", x)"
   ]
  },
  {
   "cell_type": "markdown",
   "metadata": {},
   "source": [
    "### 3. Conditional Logic"
   ]
  },
  {
   "cell_type": "code",
   "execution_count": 32,
   "metadata": {},
   "outputs": [
    {
     "name": "stdout",
     "output_type": "stream",
     "text": [
      "Is var_1 less than var_2? True\n",
      "Is var_1 equal to var_2? False\n",
      "Is var_1 greater than var_2? False\n"
     ]
    }
   ],
   "source": [
    "##1 boolean expression\n",
    "###1.1 Boolean expression examples\n",
    "var_1 = 1\n",
    "var_2 = 10\n",
    "## Checking if var_1 is less than var_2\n",
    "is_less_than = var_1 < var_2\n",
    "print(\"Is var_1 less than var_2?\", is_less_than)\n",
    "\n",
    "## Checking if var_1 is equal to var_2\n",
    "is_equal = var_1 == var_2\n",
    "print(\"Is var_1 equal to var_2?\", is_equal)\n",
    "\n",
    "## Checking if var_1 is greater than var_2\n",
    "is_greater_than = var_1 > var_2\n",
    "print(\"Is var_1 greater than var_2?\", is_greater_than)"
   ]
  },
  {
   "cell_type": "code",
   "execution_count": 33,
   "metadata": {},
   "outputs": [
    {
     "name": "stdout",
     "output_type": "stream",
     "text": [
      "Result by boolean_var_1 and boolean_var_2: False\n",
      "\n",
      "\n",
      "Result by boolean_var_1 or boolean_var_2: True\n",
      "\n",
      "\n",
      "Result by not boolean_var_1: False\n",
      "\n",
      "\n",
      "Is boolean_var_3 < boolean_var_4 and boolean_var_3 > 5? False\n"
     ]
    }
   ],
   "source": [
    "##2 boolean operations\n",
    "###2.1 Boolean operation examples\n",
    "boolean_var_1 = True\n",
    "boolean_var_2 = False\n",
    "\n",
    "###2.2 AND operation\n",
    "result_and = boolean_var_1 and boolean_var_2\n",
    "print(\"Result by boolean_var_1 and boolean_var_2:\", result_and)\n",
    "print('\\n')\n",
    "###2.3 OR operation\n",
    "result_or = boolean_var_1 or boolean_var_2\n",
    "print(\"Result by boolean_var_1 or boolean_var_2:\", result_or)\n",
    "print('\\n')\n",
    "###2.4 NOT operation\n",
    "result_not = not boolean_var_1\n",
    "print(\"Result by not boolean_var_1:\", result_not)\n",
    "print('\\n')\n",
    "#2.5 Combining multiple Boolean expressions\n",
    "boolean_var_3 = 1\n",
    "boolean_var_4 = 10\n",
    "combined_result = (boolean_var_3 < boolean_var_4) and (boolean_var_3 > 5)\n",
    "print(\"Is boolean_var_3 < boolean_var_4 and boolean_var_3 > 5?\", combined_result)"
   ]
  },
  {
   "cell_type": "code",
   "execution_count": 34,
   "metadata": {},
   "outputs": [
    {
     "name": "stdout",
     "output_type": "stream",
     "text": [
      "boolean_var_1: True\n"
     ]
    }
   ],
   "source": [
    "##3 conditional statements with Boolean\n",
    "###3.1 Boolean operation as condition statement\n",
    "boolean_var_1 = True\n",
    "boolean_var_2 = False\n",
    "if boolean_var_1: # It starts with checking 'if' statement, when 'if' statement is True, it will print boolean_var_1\n",
    "    print('boolean_var_1:',boolean_var_1)\n",
    "else: # When 'if' statement is False, it will execute this code to print boolean_var_2\n",
    "    print('boolean_var_2:',boolean_var_2)"
   ]
  },
  {
   "cell_type": "code",
   "execution_count": 35,
   "metadata": {},
   "outputs": [
    {
     "name": "stdout",
     "output_type": "stream",
     "text": [
      "boolean_var_2: False\n"
     ]
    }
   ],
   "source": [
    "###3.2 AND operation as condition statement\n",
    "result_and = boolean_var_1 and boolean_var_2\n",
    "if result_and:\n",
    "    print('boolean_var_1:',boolean_var_1)\n",
    "else:\n",
    "    print('boolean_var_2:',boolean_var_2)"
   ]
  },
  {
   "cell_type": "code",
   "execution_count": 36,
   "metadata": {},
   "outputs": [
    {
     "name": "stdout",
     "output_type": "stream",
     "text": [
      "boolean_var_1: True\n"
     ]
    }
   ],
   "source": [
    "###3.3 OR operation as condition statement\n",
    "result_or = boolean_var_1 or boolean_var_2\n",
    "if result_or:\n",
    "    print('boolean_var_1:',boolean_var_1)\n",
    "else:\n",
    "    print('boolean_var_2:',boolean_var_2)"
   ]
  },
  {
   "cell_type": "code",
   "execution_count": 37,
   "metadata": {},
   "outputs": [
    {
     "name": "stdout",
     "output_type": "stream",
     "text": [
      "boolean_var_2: False\n"
     ]
    }
   ],
   "source": [
    "###3.4 NOT operation as condition statement\n",
    "result_not = not boolean_var_1\n",
    "if result_not:\n",
    "    print('boolean_var_1:',boolean_var_1)\n",
    "else:\n",
    "    print('boolean_var_2:',boolean_var_2)"
   ]
  },
  {
   "cell_type": "code",
   "execution_count": 38,
   "metadata": {},
   "outputs": [
    {
     "name": "stdout",
     "output_type": "stream",
     "text": [
      "boolean_var_3: 1\n"
     ]
    }
   ],
   "source": [
    "###3.5 Combining multiple Boolean expressions as condition statement, and adding elif condition\n",
    "boolean_var_3 = 1\n",
    "boolean_var_4 = 10\n",
    "combined_result = (boolean_var_3 < boolean_var_4) and (boolean_var_3 > 5)\n",
    "\n",
    "if combined_result: # It starts with checking 'if' statement, when 'if' statement is True, it will print boolean_var_1\n",
    "    print('boolean_var_1:',boolean_var_1)\n",
    "elif result_or: # When 'if' statement is False, it goes to check this 'elif' condition, and will print boolean_var_3 when 'elif' statement is True\n",
    "    print('boolean_var_3:', boolean_var_3)\n",
    "else: # When both 'if' and 'elif' statements are False, it will execute this code to print boolean_var_2\n",
    "    print('boolean_var_2:',boolean_var_2)"
   ]
  },
  {
   "cell_type": "markdown",
   "metadata": {},
   "source": [
    "### 4. Loops"
   ]
  },
  {
   "cell_type": "code",
   "execution_count": 39,
   "metadata": {},
   "outputs": [
    {
     "name": "stdout",
     "output_type": "stream",
     "text": [
      "Current number: 1\n",
      "Current number: 2\n",
      "Current number: 3\n",
      "Current number: 4\n",
      "Current number: 5\n"
     ]
    }
   ],
   "source": [
    "##1 for loop\n",
    "###1.1 For loop to iterate over a list\n",
    "number_list = [1, 2, 3, 4, 5]\n",
    "for number in number_list:\n",
    "    print(\"Current number:\", number)"
   ]
  },
  {
   "cell_type": "code",
   "execution_count": 40,
   "metadata": {},
   "outputs": [
    {
     "name": "stdout",
     "output_type": "stream",
     "text": [
      "Current character: P\n",
      "Current character: y\n",
      "Current character: t\n",
      "Current character: h\n",
      "Current character: o\n",
      "Current character: n\n"
     ]
    }
   ],
   "source": [
    "###1.2 For loop to iterate over a string\n",
    "string_example = \"Python\"\n",
    "for char in string_example:\n",
    "    print(\"Current character:\", char)"
   ]
  },
  {
   "cell_type": "code",
   "execution_count": 41,
   "metadata": {},
   "outputs": [
    {
     "name": "stdout",
     "output_type": "stream",
     "text": [
      "Current character: P\n",
      "Current character: y\n",
      "Current character: t\n",
      "Current character: h\n",
      "Current character: o\n",
      "Current character: n\n"
     ]
    }
   ],
   "source": [
    "###1.3 For loop to iterate over a string\n",
    "string_example = \"Python\"\n",
    "for char in string_example:\n",
    "    print(\"Current character:\", char)"
   ]
  },
  {
   "cell_type": "code",
   "execution_count": 42,
   "metadata": {},
   "outputs": [
    {
     "name": "stdout",
     "output_type": "stream",
     "text": [
      "i = 1\n",
      "i = 2\n",
      "\n",
      "\n",
      "i = 1\n",
      "i = 2\n",
      "i = 4\n",
      "i = 5\n",
      "\n",
      "\n",
      "i = 1\n",
      "i = 2\n",
      "i = 3\n",
      "i = 4\n",
      "i = 5\n"
     ]
    }
   ],
   "source": [
    "###1.4 For loop to iterate over a range (see code sample in section 4.7) and set (see code sample in section 6.3)\n",
    "\n",
    "###1.5 The loop control (break, continue and pass) statements in for loop\n",
    "####1 Break statement: to can stop the loop before it has looped through all the items\n",
    "for i in range(1, 6):\n",
    "    if i == 3:\n",
    "        break  # Exit the loop when i is 3\n",
    "    print(\"i =\", i)\n",
    "print('\\n')\n",
    "####2 Continue statement: to stop the current iteration of the loop, and continue with the next\n",
    "for i in range(1, 6):\n",
    "    if i == 3:\n",
    "        continue  # Skip the iteration when i is 3\n",
    "    print(\"i =\", i)\n",
    "print('\\n')\n",
    "####3 Pass statement: to do nothing and is often used as a placeholder where code is required syntactically\n",
    "for i in range(1, 6):\n",
    "    if i == 3:\n",
    "        pass  # Placeholder, does nothing\n",
    "    print(\"i =\", i)"
   ]
  },
  {
   "cell_type": "code",
   "execution_count": 43,
   "metadata": {},
   "outputs": [
    {
     "name": "stdout",
     "output_type": "stream",
     "text": [
      "i = 1\n",
      "i = 2\n",
      "i = 3\n",
      "i = 4\n",
      "i = 5\n"
     ]
    }
   ],
   "source": [
    "##2 while loop\n",
    "###2.1 Basic while loop example\n",
    "i = 1\n",
    "# While loop to print numbers from 1 to 5\n",
    "while i <= 5:\n",
    "    print(\"i =\", i)\n",
    "    i += 1  # Increment the counter to avoid an infinite loop"
   ]
  },
  {
   "cell_type": "code",
   "execution_count": 44,
   "metadata": {},
   "outputs": [
    {
     "name": "stdout",
     "output_type": "stream",
     "text": [
      "i = 1\n",
      "i = 2\n",
      "i = 3\n",
      "\n",
      "\n",
      "i = 1\n",
      "i = 2\n",
      "i = 4\n",
      "i = 5\n"
     ]
    }
   ],
   "source": [
    "###2.2  The loop control (break, continue and pass) statements in while loop\n",
    "####1 break statement\n",
    "i = 1\n",
    "while i < 5:\n",
    "    print(\"i =\", i)\n",
    "    if i == 3:\n",
    "        break  # Exit the loop when i equals 3\n",
    "    i += 1\n",
    "print('\\n')\n",
    "####2 continue statement\n",
    "i = 0\n",
    "while i < 5:\n",
    "    i += 1\n",
    "    if i == 3:\n",
    "        continue  # Skip the rest of the code block when i equals 3\n",
    "    print(\"i =\", i)"
   ]
  },
  {
   "cell_type": "code",
   "execution_count": 45,
   "metadata": {},
   "outputs": [
    {
     "name": "stdout",
     "output_type": "stream",
     "text": [
      "1 1\n",
      "1 2\n",
      "2 1\n",
      "2 2\n"
     ]
    }
   ],
   "source": [
    "##3 nested loop\n",
    "###3.1 nested loop example\n",
    "for i in range(1, 3):  # Outer loop\n",
    "    for j in range(1, 3):  # Inner loop\n",
    "        print(i,j)"
   ]
  },
  {
   "cell_type": "code",
   "execution_count": 46,
   "metadata": {},
   "outputs": [
    {
     "name": "stdout",
     "output_type": "stream",
     "text": [
      "Index 0: apple\n",
      "Index 1: banana\n",
      "Index 2: cherry\n"
     ]
    }
   ],
   "source": [
    "##4 enumerate\n",
    "###4.1 Using enumerate with a list\n",
    "fruit_list = [\"apple\", \"banana\", \"cherry\"]\n",
    "for index, fruit in enumerate(fruit_list):\n",
    "    print(f\"Index {index}: {fruit}\")"
   ]
  },
  {
   "cell_type": "code",
   "execution_count": 47,
   "metadata": {},
   "outputs": [
    {
     "name": "stdout",
     "output_type": "stream",
     "text": [
      "Character P at Index 0\n",
      "Character y at Index 1\n",
      "Character t at Index 2\n",
      "Character h at Index 3\n",
      "Character o at Index 4\n",
      "Character n at Index 5\n"
     ]
    }
   ],
   "source": [
    "###4.2 Using enumerate with a string\n",
    "string_example = \"Python\"\n",
    "for index, char in enumerate(string_example):\n",
    "    print(f\"Character {char} at Index {index}\")"
   ]
  },
  {
   "cell_type": "markdown",
   "metadata": {},
   "source": [
    "### 5. Function"
   ]
  },
  {
   "cell_type": "code",
   "execution_count": 48,
   "metadata": {},
   "outputs": [],
   "source": [
    "##1 Define a function\n",
    "## Use the def keyword, followed by the function name and parentheses where to put defined parameters\n",
    "##1.1 define a function without any parameters\n",
    "def print_hello_world(): # keyword def, function name as print_hello_world and a parentheses, and no defined parameters in this function\n",
    "    print(\"Hello World!\")\n",
    "##1.2 define a funtion with parameters\n",
    "def add_numbers(x,y): # parameters x and y are in the parentheses\n",
    "    addition = x + y\n",
    "    return addition"
   ]
  },
  {
   "cell_type": "code",
   "execution_count": 49,
   "metadata": {},
   "outputs": [
    {
     "name": "stdout",
     "output_type": "stream",
     "text": [
      "Hello World!\n",
      "\n",
      "\n",
      "Sum of 1 and 2 by calling add_numbers with keyword argument:  3\n",
      "\n",
      "\n",
      "Sum of 1 and 2 by calling add_numbers with positional argument:  3\n",
      "\n",
      "\n",
      "Task 1 of calling add_numbers: 15\n",
      "\n",
      "\n",
      "Task 2 of calling add_numbers: 1093\n"
     ]
    }
   ],
   "source": [
    "##2 Call a function\n",
    "###2.1 call a function without any parameters\n",
    "print_hello_world()\n",
    "print('\\n')\n",
    "###2.2 call a function with parameters\n",
    "### by keyword arguments\n",
    "z1 = add_numbers(x=1,y=2) # here we use keyword argument x and y as defined in the add_numbers function\n",
    "print(\"Sum of 1 and 2 by calling add_numbers with keyword argument: \", z1)\n",
    "print('\\n')\n",
    "### by positional arguments\n",
    "z2 = add_numbers(1,2) # here we use positional arguments 1 for x's position and 2 for y's position as defined in the add_numbers function\n",
    "print(\"Sum of 1 and 2 by calling add_numbers with positional argument: \", z2)\n",
    "print('\\n')\n",
    "###2.3 calling the same function for same type but different tasks\n",
    "z3 = add_numbers(7,8)\n",
    "z4 = add_numbers(237,856)\n",
    "print(\"Task 1 of calling add_numbers:\", z3)\n",
    "print('\\n')\n",
    "print(\"Task 2 of calling add_numbers:\", z4)"
   ]
  },
  {
   "cell_type": "code",
   "execution_count": 50,
   "metadata": {},
   "outputs": [
    {
     "name": "stdout",
     "output_type": "stream",
     "text": [
      "11\n",
      "\n",
      "\n",
      "10\n",
      "\n",
      "\n",
      "15\n"
     ]
    }
   ],
   "source": [
    "# format to use initiate a lambda function is \"lambda arguments : expression\"\n",
    "##3 Basic Lambda Function\n",
    "###3.1 add function\n",
    "add = lambda x : x + 10\n",
    "print(add(1))\n",
    "print('\\n')\n",
    "###3.2 lambda function within defined function\n",
    "def lambda_use_func(n):\n",
    "  return lambda x : x * n\n",
    "### use lambda_use_func(n) to build a function to compute the 2 times a variable\n",
    "double_function = lambda_use_func(2) #with lambda_use_func(2) we build a function with parameter as x and compute its product with 2\n",
    "print(double_function(5))\n",
    "print('\\n')\n",
    "triple_function = lambda_use_func(3) #with lambda_use_func(3) we build a function with parameter as x and compute its product with 3\n",
    "print(triple_function(5))\n",
    "### By here, we can see using lambda function within a defined function can help reduce the number of using def to define different functions\n",
    "### we can use one function (e.g., lambda_use_func(n)) to create the functions to build other specific functions such as double_function and triple_function\n",
    "### with that, lambda function helps make our code more concise and simple"
   ]
  },
  {
   "cell_type": "code",
   "execution_count": 51,
   "metadata": {},
   "outputs": [
    {
     "name": "stdout",
     "output_type": "stream",
     "text": [
      "4.0\n"
     ]
    }
   ],
   "source": [
    "##4 Importing the sqrt function (external function) from the math module\n",
    "from math import sqrt\n",
    "result_1 = sqrt(16)\n",
    "print(result_1)"
   ]
  },
  {
   "cell_type": "code",
   "execution_count": 52,
   "metadata": {},
   "outputs": [
    {
     "name": "stdout",
     "output_type": "stream",
     "text": [
      "5.0\n"
     ]
    }
   ],
   "source": [
    "##5 Importing the entire math module\n",
    "import math\n",
    "result_2 = math.sqrt(25)\n",
    "print(result_2)"
   ]
  },
  {
   "cell_type": "markdown",
   "metadata": {},
   "source": [
    "### 6. Comprehensions"
   ]
  },
  {
   "cell_type": "code",
   "execution_count": 53,
   "metadata": {},
   "outputs": [
    {
     "name": "stdout",
     "output_type": "stream",
     "text": [
      "List from traditional loop:  [0, 2, 4, 6, 8, 10, 12, 14, 16, 18]\n",
      "\n",
      "\n",
      "List from list comprehension:  [0, 2, 4, 6, 8, 10, 12, 14, 16, 18]\n"
     ]
    }
   ],
   "source": [
    "# basic format for list comprehension is: [expression for item in iterable]\n",
    "## expression: The value to be added to the new list;\n",
    "## item: The variable that represents each element in the iterable\n",
    "## iterable: The collection being iterated over (e.g., a list, tuple, or range)\n",
    "\n",
    "##1 list comprehension without conditions\n",
    "## Traditional way using a loop\n",
    "list_example_tradition = []\n",
    "for x in range(10):\n",
    "    list_example_tradition.append(x*2)\n",
    "## List comprehension\n",
    "list_example_comprehension = [x*2 for x in range(10)]\n",
    "\n",
    "print('List from traditional loop: ', list_example_tradition)\n",
    "print('\\n')\n",
    "print('List from list comprehension: ', list_example_comprehension)"
   ]
  },
  {
   "cell_type": "code",
   "execution_count": 54,
   "metadata": {},
   "outputs": [
    {
     "name": "stdout",
     "output_type": "stream",
     "text": [
      "List from list comprehension with conditions:  [0, 4, 8, 12, 16]\n"
     ]
    }
   ],
   "source": [
    "##2 list comprehension with conditions\n",
    "list_example_comprehension_condition = [x*2 for x in range(10) if x%2==0] # we add a if condition so that only even number will be used to create the list_example_comprehension_condition\n",
    "print('List from list comprehension with conditions: ', list_example_comprehension_condition)"
   ]
  },
  {
   "cell_type": "code",
   "execution_count": 55,
   "metadata": {},
   "outputs": [
    {
     "name": "stdout",
     "output_type": "stream",
     "text": [
      "Dictionary from traditional loop:  {0: 0, 1: 2, 2: 4, 3: 6, 4: 8}\n",
      "\n",
      "\n",
      "Dictionary from dictionary comprehension:  {0: 0, 1: 2, 2: 4, 3: 6, 4: 8}\n"
     ]
    }
   ],
   "source": [
    "# basic format for Dictionary comprehension is: {key_expression: value_expression for item in iterable}\n",
    "## key_expression: The expression that defines the key for each item.\n",
    "## value_expression: The expression that defines the value for each item.\n",
    "## item: The variable that represents each element in the iterable.\n",
    "\n",
    "##3 Dictionary comprehension example\n",
    "## Traditional way using a loop\n",
    "dictionary_example_tradition = {}\n",
    "for x in range(5):\n",
    "    dictionary_example_tradition[x] = x*2\n",
    "## List comprehension\n",
    "dictionary_example_comprehension = {x: x*2 for x in range(5)}\n",
    "\n",
    "print('Dictionary from traditional loop: ', dictionary_example_tradition)\n",
    "print('\\n')\n",
    "print('Dictionary from dictionary comprehension: ', dictionary_example_comprehension)"
   ]
  },
  {
   "cell_type": "code",
   "execution_count": 56,
   "metadata": {},
   "outputs": [
    {
     "name": "stdout",
     "output_type": "stream",
     "text": [
      "Original dictionary:  {'apple': 'red', 'banana': 'yellow', 'grape': 'purple'}\n",
      "Dictionary after swapping keys and values:  {'red': 'apple', 'yellow': 'banana', 'purple': 'grape'}\n"
     ]
    }
   ],
   "source": [
    "##4 Swapping Keys and Values with dictionary comprehension\n",
    "## Original dictionary\n",
    "fruit_to_color = {\n",
    "    'apple': 'red',\n",
    "    'banana': 'yellow',\n",
    "    'grape': 'purple'\n",
    "}\n",
    "\n",
    "## Swapping keys and values\n",
    "color_to_fruit = {color: fruit for fruit, color in fruit_to_color.items()}\n",
    "\n",
    "print(\"Original dictionary: \", fruit_to_color)\n",
    "print(\"Dictionary after swapping keys and values: \", color_to_fruit)"
   ]
  }
 ],
 "metadata": {
  "kernelspec": {
   "display_name": "Python 3",
   "language": "python",
   "name": "python3"
  },
  "language_info": {
   "codemirror_mode": {
    "name": "ipython",
    "version": 3
   },
   "file_extension": ".py",
   "mimetype": "text/x-python",
   "name": "python",
   "nbconvert_exporter": "python",
   "pygments_lexer": "ipython3",
   "version": "3.10.5"
  }
 },
 "nbformat": 4,
 "nbformat_minor": 2
}
