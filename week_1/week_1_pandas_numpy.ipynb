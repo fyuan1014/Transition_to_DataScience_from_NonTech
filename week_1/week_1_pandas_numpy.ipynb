{
 "cells": [
  {
   "cell_type": "markdown",
   "metadata": {},
   "source": [
    "### 1. Introduciton of pandas"
   ]
  },
  {
   "cell_type": "code",
   "execution_count": 1,
   "metadata": {},
   "outputs": [],
   "source": [
    "# importing pandas\n",
    "import pandas as pd"
   ]
  },
  {
   "cell_type": "markdown",
   "metadata": {},
   "source": [
    "#### 1.1 Popular easy-to-use structure with pandas: Series and DataFrame"
   ]
  },
  {
   "cell_type": "code",
   "execution_count": 2,
   "metadata": {},
   "outputs": [
    {
     "name": "stdout",
     "output_type": "stream",
     "text": [
      "0    1\n",
      "1    2\n",
      "2    3\n",
      "3    4\n",
      "4    5\n",
      "dtype: int64\n"
     ]
    }
   ],
   "source": [
    "##1 create a pandas series\n",
    "data = [1, 2, 3, 4, 5]\n",
    "series = pd.Series(data)\n",
    "print(series)"
   ]
  },
  {
   "cell_type": "code",
   "execution_count": 3,
   "metadata": {},
   "outputs": [
    {
     "name": "stdout",
     "output_type": "stream",
     "text": [
      "     Name  Age  Salary\n",
      "0   Alice   25   50000\n",
      "1     Tim   30   60000\n",
      "2  Nathan   35   70000\n",
      "3   David   40   80000\n",
      "4     Eva   45   90000\n"
     ]
    }
   ],
   "source": [
    "##2 create a pandas dataframe\n",
    "data = {\n",
    "    'Name': ['Alice', 'Tim', 'Nathan', 'David', 'Eva'],\n",
    "    'Age': [25, 30, 35, 40, 45],\n",
    "    'Salary': [50000, 60000, 70000, 80000, 90000]\n",
    "}\n",
    "df = pd.DataFrame(data)\n",
    "print(df)"
   ]
  },
  {
   "cell_type": "markdown",
   "metadata": {},
   "source": [
    "#### 1.2 Basic DataFrame Operations"
   ]
  },
  {
   "cell_type": "code",
   "execution_count": 4,
   "metadata": {},
   "outputs": [
    {
     "name": "stdout",
     "output_type": "stream",
     "text": [
      "top 2 rows of dataframe df are: \n",
      "    Name  Age  Salary\n",
      "0  Alice   25   50000\n",
      "1    Tim   30   60000\n",
      "\n",
      "\n",
      "bottom 2 rows of dataframe df are: \n",
      "    Name  Age  Salary\n",
      "3  David   40   80000\n",
      "4    Eva   45   90000\n",
      "\n",
      "\n",
      "randomly grabbed 2 rows from dataframe df\n",
      "    Name  Age  Salary\n",
      "3  David   40   80000\n",
      "1    Tim   30   60000\n"
     ]
    }
   ],
   "source": [
    "##1 view the dataframe\n",
    "print(\"top 2 rows of dataframe df are: \")\n",
    "print(df.head(2))\n",
    "print('\\n')\n",
    "print(\"bottom 2 rows of dataframe df are: \")\n",
    "print(df.tail(2))\n",
    "print('\\n')\n",
    "print(\"randomly grabbed 2 rows from dataframe df\")\n",
    "print(df.sample(2))"
   ]
  },
  {
   "cell_type": "code",
   "execution_count": 5,
   "metadata": {},
   "outputs": [
    {
     "name": "stdout",
     "output_type": "stream",
     "text": [
      "<class 'pandas.core.frame.DataFrame'>\n",
      "RangeIndex: 5 entries, 0 to 4\n",
      "Data columns (total 3 columns):\n",
      " #   Column  Non-Null Count  Dtype \n",
      "---  ------  --------------  ----- \n",
      " 0   Name    5 non-null      object\n",
      " 1   Age     5 non-null      int64 \n",
      " 2   Salary  5 non-null      int64 \n",
      "dtypes: int64(2), object(1)\n",
      "memory usage: 248.0+ bytes\n",
      "None\n"
     ]
    }
   ],
   "source": [
    "##2 dispaly a summary of the dataframe\n",
    "print(df.info())"
   ]
  },
  {
   "cell_type": "code",
   "execution_count": 6,
   "metadata": {},
   "outputs": [
    {
     "name": "stdout",
     "output_type": "stream",
     "text": [
      "             Age        Salary\n",
      "count   5.000000      5.000000\n",
      "mean   35.000000  70000.000000\n",
      "std     7.905694  15811.388301\n",
      "min    25.000000  50000.000000\n",
      "25%    30.000000  60000.000000\n",
      "50%    35.000000  70000.000000\n",
      "75%    40.000000  80000.000000\n",
      "max    45.000000  90000.000000\n"
     ]
    }
   ],
   "source": [
    "##3 get a descriptive statistic of the dataframe\n",
    "print(df.describe())"
   ]
  },
  {
   "cell_type": "code",
   "execution_count": 7,
   "metadata": {},
   "outputs": [
    {
     "name": "stdout",
     "output_type": "stream",
     "text": [
      "accessing a column\n",
      "0     Alice\n",
      "1       Tim\n",
      "2    Nathan\n",
      "3     David\n",
      "4       Eva\n",
      "Name: Name, dtype: object\n",
      "\n",
      "\n",
      "accesing multiple columns\n",
      "     Name  Age\n",
      "0   Alice   25\n",
      "1     Tim   30\n",
      "2  Nathan   35\n",
      "3   David   40\n",
      "4     Eva   45\n"
     ]
    }
   ],
   "source": [
    "##4 access a column or multiple columns\n",
    "print(\"accessing a column\")\n",
    "print(df['Name'])\n",
    "print('\\n')\n",
    "print(\"accesing multiple columns\")\n",
    "print(df[['Name','Age']])"
   ]
  },
  {
   "cell_type": "code",
   "execution_count": 8,
   "metadata": {},
   "outputs": [
    {
     "name": "stdout",
     "output_type": "stream",
     "text": [
      "accessing first row of dataframe df\n",
      "Name      Alice\n",
      "Age          25\n",
      "Salary    50000\n",
      "Name: 0, dtype: object\n",
      "\n",
      "\n",
      "accessing first and third rows of dataframe df\n",
      "     Name  Age  Salary\n",
      "0   Alice   25   50000\n",
      "2  Nathan   35   70000\n",
      "\n",
      "\n",
      "accessing first to third rows of dataframe df\n",
      "    Name  Age  Salary\n",
      "0  Alice   25   50000\n",
      "1    Tim   30   60000\n"
     ]
    }
   ],
   "source": [
    "##5 access a row or multiple rows\n",
    "print(\"accessing first row of dataframe df\")\n",
    "print(df.iloc[0])\n",
    "print('\\n')\n",
    "print(\"accessing first and third rows of dataframe df\")\n",
    "print(df.iloc[[0,2]])\n",
    "print('\\n')\n",
    "print(\"accessing first to third rows of dataframe df\")\n",
    "print(df.iloc[0:2])"
   ]
  },
  {
   "cell_type": "code",
   "execution_count": 9,
   "metadata": {},
   "outputs": [
    {
     "name": "stdout",
     "output_type": "stream",
     "text": [
      "Filter people elder than 30\n",
      "     Name  Age  Salary\n",
      "2  Nathan   35   70000\n",
      "3   David   40   80000\n",
      "4     Eva   45   90000\n"
     ]
    }
   ],
   "source": [
    "##6 filter data \n",
    "print(\"Filter people elder than 30\")\n",
    "print(df[df['Age'] > 30]) "
   ]
  },
  {
   "cell_type": "code",
   "execution_count": 10,
   "metadata": {},
   "outputs": [
    {
     "name": "stdout",
     "output_type": "stream",
     "text": [
      "data frame aftering adding a column: \n",
      "     Name  Age  Salary   Bonus\n",
      "0   Alice   25   50000  5000.0\n",
      "1     Tim   30   60000  6000.0\n",
      "2  Nathan   35   70000  7000.0\n",
      "3   David   40   80000  8000.0\n",
      "4     Eva   45   90000  9000.0\n",
      "\n",
      "\n",
      "data frame aftering deleting the enwly added column: \n",
      "     Name  Age  Salary\n",
      "0   Alice   25   50000\n",
      "1     Tim   30   60000\n",
      "2  Nathan   35   70000\n",
      "3   David   40   80000\n",
      "4     Eva   45   90000\n"
     ]
    }
   ],
   "source": [
    "##7 add a new column and delete a column\n",
    "### adding a column called \"Bonus\" which is 12.5% of the salary\n",
    "df['Bonus'] = df['Salary'] * 0.1\n",
    "print(\"data frame aftering adding a column: \")\n",
    "print(df)\n",
    "print('\\n')\n",
    "\n",
    "### deleting the newly added column \"Bonus\"\n",
    "print(\"data frame aftering deleting the enwly added column: \")\n",
    "print(df.drop(columns=['Bonus']))"
   ]
  },
  {
   "cell_type": "markdown",
   "metadata": {},
   "source": [
    "### 2 Introduction of NumPy"
   ]
  },
  {
   "cell_type": "code",
   "execution_count": 11,
   "metadata": {},
   "outputs": [],
   "source": [
    "# importing NumPy\n",
    "import numpy as np"
   ]
  },
  {
   "cell_type": "markdown",
   "metadata": {},
   "source": [
    "#### 2.1 Creating NumPy Arrays"
   ]
  },
  {
   "cell_type": "code",
   "execution_count": 12,
   "metadata": {},
   "outputs": [
    {
     "name": "stdout",
     "output_type": "stream",
     "text": [
      "The 1d array example looks like\n",
      "[1 2 3 4 5]\n",
      "\n",
      "\n",
      "The 2d array example looks like\n",
      "[[1 2 3]\n",
      " [4 5 6]\n",
      " [7 8 9]]\n"
     ]
    }
   ],
   "source": [
    "##1 creating a 1D array\n",
    "arr_1d_1 = np.array([1, 2, 3, 4, 5])\n",
    "print(\"The 1d array example looks like\")\n",
    "print(arr_1d_1)\n",
    "print('\\n')\n",
    "##2 creating a 2D array (matrix)\n",
    "arr_2d = np.array([[1, 2, 3], [4, 5, 6], [7, 8, 9]])\n",
    "print(\"The 2d array example looks like\")\n",
    "print(arr_2d)"
   ]
  },
  {
   "cell_type": "code",
   "execution_count": 13,
   "metadata": {},
   "outputs": [
    {
     "name": "stdout",
     "output_type": "stream",
     "text": [
      "The 1d array example created with arrange() is: \n",
      "[0 2 4 6 8]\n"
     ]
    }
   ],
   "source": [
    "##3 using arange() (creates arrays with evenly spaced values)\n",
    "arr_1d_2 = np.arange(0, 10, 2) # 0 and 10 denote the range, while 2 referrs to the space or step\n",
    "print(\"The 1d array example created with arrange() is: \")\n",
    "print(arr_1d_2)"
   ]
  },
  {
   "cell_type": "code",
   "execution_count": 14,
   "metadata": {},
   "outputs": [
    {
     "name": "stdout",
     "output_type": "stream",
     "text": [
      "all zero array with zeros()\n",
      "[0. 0. 0. 0. 0.]\n",
      "\n",
      "\n",
      "all one array with ones()\n",
      "[1. 1. 1. 1. 1.]\n"
     ]
    }
   ],
   "source": [
    "##4 creating a arrary with all zero or one\n",
    "arr_1d_3 = np.zeros(5)\n",
    "print(\"all zero array with zeros()\")\n",
    "print(arr_1d_3)\n",
    "print('\\n')\n",
    "arr_1d_4 = np.ones(5)\n",
    "print(\"all one array with ones()\")\n",
    "print(arr_1d_4)"
   ]
  },
  {
   "cell_type": "code",
   "execution_count": 15,
   "metadata": {},
   "outputs": [
    {
     "name": "stdout",
     "output_type": "stream",
     "text": [
      "The 1d array crated with linspace()\n",
      "[0.   0.25 0.5  0.75 1.  ]\n"
     ]
    }
   ],
   "source": [
    "##5 using linspace() (creates arrays with a specified number of evenly spaced values)\n",
    "arr_1d_5 = np.linspace(0, 1, 5) # 0 and 1 define the range, while 5 denotes the number of elements created with even split of the range\n",
    "print(\"The 1d array crated with linspace()\")\n",
    "print(arr_1d_5)"
   ]
  },
  {
   "cell_type": "markdown",
   "metadata": {},
   "source": [
    "#### 2.2 Basic Array Operations"
   ]
  },
  {
   "cell_type": "code",
   "execution_count": 16,
   "metadata": {},
   "outputs": [
    {
     "name": "stdout",
     "output_type": "stream",
     "text": [
      "Original array shape\n",
      "(2, 3)\n",
      "Original array\n",
      "[[1 2 3]\n",
      " [4 5 6]]\n",
      "\n",
      "\n",
      "The array shape after reshaped\n",
      "(3, 2)\n",
      "The array shape after reshaped\n",
      "[[1 2]\n",
      " [3 4]\n",
      " [5 6]]\n"
     ]
    }
   ],
   "source": [
    "##1 array shape and reshaping\n",
    "matrix_1 = np.array([[1, 2, 3], [4, 5, 6]])\n",
    "print(\"Original array shape\")\n",
    "print(matrix_1.shape)\n",
    "print(\"Original array\")\n",
    "print(matrix_1)\n",
    "print('\\n')\n",
    "\n",
    "matrix_1_resahpe = matrix_1.reshape((3, 2))\n",
    "print(\"The array shape after reshaped\")\n",
    "print(matrix_1_resahpe.shape)\n",
    "print(\"The array shape after reshaped\")\n",
    "print(matrix_1_resahpe)"
   ]
  },
  {
   "cell_type": "code",
   "execution_count": 17,
   "metadata": {},
   "outputs": [
    {
     "name": "stdout",
     "output_type": "stream",
     "text": [
      "Here uses arr_1d_1 created earlier to show the operations:\n",
      "arr_1d_1: [1 2 3 4 5]\n",
      "\n",
      "\n",
      "The second elemen in arr_1d_1 is\n",
      "2\n",
      "Here is the sliced elements from index 1 to 2\n",
      "[2 3]\n"
     ]
    }
   ],
   "source": [
    "##2 array indexing and slicing for 1d array\n",
    "print(\"Here uses arr_1d_1 created earlier to show the operations:\")\n",
    "print(\"arr_1d_1:\", arr_1d_1)\n",
    "print('\\n')\n",
    "print(\"The second elemen in arr_1d_1 is\")\n",
    "print(arr_1d_1[1])\n",
    "print(\"Here is the sliced elements from index 1 to 2\")\n",
    "print(arr_1d_1[1:3])"
   ]
  },
  {
   "cell_type": "code",
   "execution_count": 18,
   "metadata": {},
   "outputs": [
    {
     "name": "stdout",
     "output_type": "stream",
     "text": [
      "Here uses matrix_1 created earlier to show the operations:\n",
      "matrix_1: [[1 2 3]\n",
      " [4 5 6]]\n",
      "\n",
      "\n",
      "The elemen at 1st row and 2nd column in matrix_1 is\n",
      "2\n",
      "Here is the sliced elements from row 1, and column 1 to 2\n",
      "[1 2]\n"
     ]
    }
   ],
   "source": [
    "##3 array indexing and slicing for 2d array\n",
    "print(\"Here uses matrix_1 created earlier to show the operations:\")\n",
    "print(\"matrix_1:\", matrix_1)\n",
    "print('\\n')\n",
    "print(\"The elemen at 1st row and 2nd column in matrix_1 is\")\n",
    "print(matrix_1[0][1])\n",
    "print(\"Here is the sliced elements from row 1, and column 1 to 2\")\n",
    "print(matrix_1[0][0:2])"
   ]
  },
  {
   "cell_type": "code",
   "execution_count": 19,
   "metadata": {},
   "outputs": [
    {
     "name": "stdout",
     "output_type": "stream",
     "text": [
      "Here uses arr_1d_1 created earlier to show the operations:\n",
      "arr_1d_1: [1 2 3 4 5]\n",
      "\n",
      "\n",
      "array after adding 20 to each element\n",
      "[21 22 23 24 25]\n",
      "\n",
      "\n",
      "array after mutiplying 5 to each element\n",
      "[ 5 10 15 20 25]\n"
     ]
    }
   ],
   "source": [
    "##4 mathematical operations: Addition, Subtraction, Multiplication, Division\n",
    "print(\"Here uses arr_1d_1 created earlier to show the operations:\")\n",
    "print(\"arr_1d_1:\", arr_1d_1)\n",
    "print('\\n')\n",
    "print(\"array after adding 20 to each element\")\n",
    "print(arr_1d_1+20)\n",
    "print('\\n')\n",
    "print(\"array after mutiplying 5 to each element\")\n",
    "print(arr_1d_1*5)"
   ]
  },
  {
   "cell_type": "code",
   "execution_count": 20,
   "metadata": {},
   "outputs": [
    {
     "name": "stdout",
     "output_type": "stream",
     "text": [
      "Here uses arr_1d_1 and arr_1d_2 created earlier to show the operations:\n",
      "arr_1d_1: [1 2 3 4 5]\n",
      "arr_1d_2: [0 2 4 6 8]\n",
      "\n",
      "\n",
      "sum of these 2 arraies arr_1d_1 and arr_1d_2\n",
      "[ 1  4  7 10 13]\n"
     ]
    }
   ],
   "source": [
    "##5 mathematical operations: element-wise operations between arrays\n",
    "print(\"Here uses arr_1d_1 and arr_1d_2 created earlier to show the operations:\")\n",
    "print(\"arr_1d_1:\", arr_1d_1)\n",
    "print(\"arr_1d_2:\", arr_1d_2)\n",
    "print('\\n')\n",
    "print(\"sum of these 2 arraies arr_1d_1 and arr_1d_2\")\n",
    "print(arr_1d_1+arr_1d_2)"
   ]
  },
  {
   "cell_type": "code",
   "execution_count": 21,
   "metadata": {},
   "outputs": [
    {
     "name": "stdout",
     "output_type": "stream",
     "text": [
      "Here uses arr_1d_1 created earlier to show the operations:\n",
      "arr_1d_1: [1 2 3 4 5]\n",
      "\n",
      "\n",
      "Sum of all the elements in arr_1d_1\n",
      "15\n",
      "\n",
      "\n",
      "Mean of all the elements in arr_1d_1\n",
      "3.0\n",
      "\n",
      "\n",
      "Standard Deviation of all the elements in arr_1d_1\n",
      "1.4142135623730951\n",
      "\n",
      "\n",
      "Minimum value of all the elements in arr_1d_1\n",
      "1\n",
      "\n",
      "\n",
      "Maximum value of all the elements in arr_1d_1\n",
      "5\n"
     ]
    }
   ],
   "source": [
    "##6 mathematical operations: 1d-array-wise operations \n",
    "print(\"Here uses arr_1d_1 created earlier to show the operations:\")\n",
    "print(\"arr_1d_1:\", arr_1d_1)\n",
    "print('\\n')\n",
    "print('Sum of all the elements in arr_1d_1')\n",
    "print(arr_1d_1.sum())\n",
    "print('\\n')\n",
    "print('Mean of all the elements in arr_1d_1')\n",
    "print(arr_1d_1.mean())\n",
    "print('\\n')\n",
    "print('Standard Deviation of all the elements in arr_1d_1')\n",
    "print(arr_1d_1.std())\n",
    "print('\\n')\n",
    "print('Minimum value of all the elements in arr_1d_1')\n",
    "print(arr_1d_1.min())\n",
    "print('\\n')\n",
    "print('Maximum value of all the elements in arr_1d_1')\n",
    "print(arr_1d_1.max())"
   ]
  },
  {
   "cell_type": "code",
   "execution_count": 22,
   "metadata": {},
   "outputs": [
    {
     "name": "stdout",
     "output_type": "stream",
     "text": [
      "Here uses matrix_1 created earlier to show the operations:\n",
      "matrix_1: [[1 2 3]\n",
      " [4 5 6]]\n",
      "\n",
      "\n",
      "Sum of all the elements in matrix_1\n",
      "21\n",
      "\n",
      "\n",
      "Sum of each column in matrix_1\n",
      "[5 7 9]\n",
      "\n",
      "\n",
      "Sum of each row in matrix_1\n",
      "[ 6 15]\n",
      "\n",
      "\n",
      "Minimum value of all the elements in matrix_1\n",
      "1\n",
      "\n",
      "\n",
      "Minimum value of each column in matrix_1\n",
      "[1 2 3]\n",
      "\n",
      "\n",
      "Minimum value of each row in matrix_1\n",
      "[1 4]\n"
     ]
    }
   ],
   "source": [
    "##7 mathematical operations: 2d-array-wise operations \n",
    "print(\"Here uses matrix_1 created earlier to show the operations:\")\n",
    "print(\"matrix_1:\", matrix_1)\n",
    "print('\\n')\n",
    "\n",
    "print(\"Sum of all the elements in matrix_1\")\n",
    "print(matrix_1.sum())\n",
    "print('\\n')\n",
    "print(\"Sum of each column in matrix_1\")\n",
    "print(matrix_1.sum(axis=0))\n",
    "print('\\n')\n",
    "print(\"Sum of each row in matrix_1\")\n",
    "print(matrix_1.sum(axis=1))\n",
    "print('\\n')\n",
    "\n",
    "print('Minimum value of all the elements in matrix_1')\n",
    "print(matrix_1.min())\n",
    "print('\\n')\n",
    "print(\"Minimum value of each column in matrix_1\")\n",
    "print(matrix_1.min(axis=0))\n",
    "print('\\n')\n",
    "print(\"Minimum value of each row in matrix_1\")\n",
    "print(matrix_1.min(axis=1))"
   ]
  },
  {
   "cell_type": "code",
   "execution_count": 23,
   "metadata": {},
   "outputs": [
    {
     "name": "stdout",
     "output_type": "stream",
     "text": [
      "Here uses matrix_1 created earlier to show the operations:\n",
      "matrix_1: [[1 2 3]\n",
      " [4 5 6]]\n",
      "\n",
      "\n",
      "matrix_1 after transporting\n",
      "[[1 4]\n",
      " [2 5]\n",
      " [3 6]]\n",
      "\n",
      "\n",
      "matrix_1 after flattening\n",
      "[1 2 3 4 5 6]\n"
     ]
    }
   ],
   "source": [
    "##8 array transposing and flattening\n",
    "print(\"Here uses matrix_1 created earlier to show the operations:\")\n",
    "print(\"matrix_1:\", matrix_1)\n",
    "print('\\n')\n",
    "\n",
    "print(\"matrix_1 after transporting\")\n",
    "print(matrix_1.T)\n",
    "print('\\n')\n",
    "\n",
    "print(\"matrix_1 after flattening\")\n",
    "print(matrix_1.flatten())"
   ]
  }
 ],
 "metadata": {
  "kernelspec": {
   "display_name": "Python 3",
   "language": "python",
   "name": "python3"
  },
  "language_info": {
   "codemirror_mode": {
    "name": "ipython",
    "version": 3
   },
   "file_extension": ".py",
   "mimetype": "text/x-python",
   "name": "python",
   "nbconvert_exporter": "python",
   "pygments_lexer": "ipython3",
   "version": "3.10.5"
  }
 },
 "nbformat": 4,
 "nbformat_minor": 2
}
